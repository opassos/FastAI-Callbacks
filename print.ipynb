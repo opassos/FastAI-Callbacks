class print_frozen(Callback):
    def before_fit(self):
        total = sum([np.prod(p.size()) for p in self.model.parameters()])
        frozen = filter(lambda p: not p.requires_grad, self.model.parameters())
        frozen = sum([np.prod(p.size()) for p in frozen])
        print(f'Model training {total - frozen} parameters out of {total} ({(100*(total - frozen)/total):.2f}%)')
